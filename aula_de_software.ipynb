{
 "cells": [
  {
   "cell_type": "markdown",
   "metadata": {},
   "source": [
    "<img align=\"center\" width=\"300\" height=\"300\" src=\"data:image/jpeg;base64,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\">"
   ]
  },
  {
   "cell_type": "markdown",
   "metadata": {},
   "source": [
    "# **EDRA, Aula de Software**"
   ]
  },
  {
   "cell_type": "markdown",
   "metadata": {
    "jupyter": {
     "source_hidden": true
    }
   },
   "source": [
    "## **Ementa:**"
   ]
  },
  {
   "cell_type": "markdown",
   "metadata": {},
   "source": [
    "1. **A área de software da EDRA.**\n",
    "    1. Quem é quem? Quem faz o que?\n",
    "    2. Qual a diferença entre Software e Controle? O que Software faz?\n",
    "    3. Quais são os principais problemas que Software encara?\n",
    "    4. Vídeo do Felipe Kataoka, primeiro líder de software.\n",
    "2. **Molhando os pés em Aprendizado de Máquina.**\n",
    "    1. O que é Inteligência Artificial?\n",
    "    2. Programação VS Machine Learning.\n",
    "    3. Qual é a diferença entre Inteligência Artificial, Aprendizado de Máquina e Aprendizagem Profunda?\n",
    "3. **Molhando os pés em Visão Computacional.**\n",
    "    1. Aplicações\n",
    "    2. O que é uma imagem?\n",
    "    3. O que é uma convolução?\n",
    "    4. O que são filtros (ou kernels)?\n",
    "    5. O que é uma rede neural convolucional?\n",
    "3. **Perguntas.**\n",
    "4. **Workshop. (se der tempo)**\n",
    "    0. Pré-requisitos: nenhum. Um pouco de programação ajuda.\n",
    "    1. Introdução ao Google Colab\n",
    "    2. Primeiros passos com TensorFlow no Google Colaboratory\n",
    "    3. Construa sua primeira rede neural profunda"
   ]
  },
  {
   "cell_type": "markdown",
   "metadata": {},
   "source": [
    "#   \n",
    "#    \n",
    "#     \n",
    "#     "
   ]
  },
  {
   "cell_type": "markdown",
   "metadata": {},
   "source": [
    "## **1. A área de software da EDRA**"
   ]
  },
  {
   "cell_type": "markdown",
   "metadata": {},
   "source": [
    "### A. Quem é quem? Quem faz o que?\n",
    "- Eduarda Tavares - Design Gráfico com Unreal e outras ferramentas\n",
    "- Edson Soares - Desenvolvimento Mobile com Flutter\n",
    "- Gabrielle Ribeiro - Engenharia de Machine Learning com Python e TensorFlow\n",
    "- Leonardo Miranda - Pesquisa em Machine Learning e Gestão"
   ]
  },
  {
   "cell_type": "markdown",
   "metadata": {},
   "source": [
    "### B. Qual a diferença entre \"Software\" e \"Estabilidade e Controle\"? O que \"Software\" faz?\n",
    "\n",
    "**Estabilidade e Controle**\n",
    "- Sistema Embarcado de Tomada de Decisões\n",
    "- Modelagem Matemática dos Drones\n",
    "\n",
    "**Software**\n",
    "- Sistemas Auxiliares. Exemplo: aplicativo mobile.\n",
    "- Processamento de Imagens. Exemplo: detecção de objetos.\n",
    "- Design Gráfico. Exemplo: ambiente de simulação.\n",
    "- Conexão dos Componentes Eletrônicos Junto com a Área de Eletrônica"
   ]
  },
  {
   "cell_type": "markdown",
   "metadata": {},
   "source": [
    "### C. Quais são os principais problemas que Software encara?\n",
    "- Limitação do tempo de voo.\n",
    "- Altura do voo.\n",
    "- Resolução da câmera.\n",
    "- Posicionamento da câmera no drone.\n",
    "- Custo computacional dos modelos de Aprendizado de Máquina. \n",
    "- Vídeo: https://www.youtube.com/watch?v=TiOKvOrYNII"
   ]
  },
  {
   "cell_type": "markdown",
   "metadata": {},
   "source": [
    "#    \n",
    "#    "
   ]
  },
  {
   "cell_type": "markdown",
   "metadata": {},
   "source": [
    "## **2. Molhando os pés em Aprendizado de Máquina**"
   ]
  },
  {
   "cell_type": "markdown",
   "metadata": {},
   "source": [
    "### **A. O que é Inteligência Artificial?**\n",
    "\n",
    "Inteligência Artificial é um campo da Ciência da Computação que busca construir sistemas para computadores capazes de executar tarefas cognitivas de forma independente, reagindo de forma flexível ao seu ambiente maximizando a probabilidade de realizar com sucesso determinada tarefa.\n",
    "\n",
    "Por ser um campo ainda em desenvolvimento é difícil trazer uma definição única, mas de forma bem simples, pode-se dizer que a Inteligência Artificial faz com que computadores tenham a habilidade de pensar.\n",
    "\n",
    "O uso de Inteligência Artificial pode ser observado em veículos autônomos, chatbots, nas suas recomendações da Netflix, reconhecimento facial, etc.\n",
    "\n",
    "<img align=\"center\" width=\"1000\" height=\"500\" src=\"images/AI_2.png\">\n",
    "\n",
    "\n"
   ]
  },
  {
   "cell_type": "markdown",
   "metadata": {},
   "source": [
    "### **B. Programação VS Machine Learning**\n",
    "\n",
    "Na programação comum escrevemos códigos que dizem as regras que o computador deve seguir. Já no aprendizado de máquina essas regras não são ditas ao algoritmo, na realidade ele descobre quais são essas regras durante o treinamento.\n",
    "\n",
    "\n",
    "<img align=\"center\" width=\"500\" height=\"500\" src=\"images/ML.png\">\n",
    "\n",
    "Legal, não?\n",
    "\n",
    "<img align=\"center\" width=\"300\" height=\"300\" src=\"https://media.giphy.com/media/xT0xeJpnrWC4XWblEk/giphy.gif\">\n"
   ]
  },
  {
   "cell_type": "markdown",
   "metadata": {},
   "source": [
    "### **C. Qual é a diferença entre Inteligência Artificial, Aprendizado de Máquina e Aprendizagem Profunda?**\n",
    "\n",
    "<img align=\"center\" width=\"300\" height=\"300\" src=\"https://media.giphy.com/media/xUA7bhv4o0biM0WyOI/giphy.gif\">\n",
    "\n",
    "Para responder a esta pergunta, vamos praticar: [A Neural Network Playground](https://playground.tensorflow.org/#activation=tanh&batchSize=10&dataset=circle&regDataset=reg-plane&learningRate=0.03&regularizationRate=0&noise=0&networkShape=4&seed=0.92659&showTestData=false&discretize=false&percTrainData=50&x=true&y=true&xTimesY=false&xSquared=false&ySquared=false&cosX=false&sinX=false&cosY=false&sinY=false&collectStats=false&problem=classification&initZero=false&hideText=false)."
   ]
  },
  {
   "cell_type": "markdown",
   "metadata": {},
   "source": [
    "#    \n",
    "#    "
   ]
  },
  {
   "cell_type": "markdown",
   "metadata": {},
   "source": [
    "## **3. Molhando os pés em Visão Computacional**"
   ]
  },
  {
   "cell_type": "markdown",
   "metadata": {},
   "source": [
    "### **A. Aplicações**"
   ]
  },
  {
   "cell_type": "markdown",
   "metadata": {},
   "source": [
    "**Aviação**: Pouso automático.\n",
    "##### <img align=\"center\" width=\"380\" src=\"images/autoland.png\">"
   ]
  },
  {
   "cell_type": "markdown",
   "metadata": {},
   "source": [
    "**Indústria Automotiva**: Autopilot da Tesla\n",
    "##### <img align=\"center\" width=\"380\"  src=\"images/tesla.png\">"
   ]
  },
  {
   "cell_type": "markdown",
   "metadata": {},
   "source": [
    "**Área Jurídica**: Análise do layout de documentos\n",
    "##### <img align=\"center\" width=\"380\"  src=\"images/layout_analysis.png\">"
   ]
  },
  {
   "cell_type": "markdown",
   "metadata": {},
   "source": [
    "**Cibersecurity**: Detecção de malwares\n",
    "##### <img align=\"center\" width=\"480\"  src=\"images/malware.png\">\n"
   ]
  },
  {
   "cell_type": "markdown",
   "metadata": {},
   "source": [
    "**Processamento de aúdio**: Classificação de aúdio com espectogramas\n",
    "##### <img align=\"center\" width=\"480\"  src=\"images/spectograms.png\">"
   ]
  },
  {
   "cell_type": "markdown",
   "metadata": {},
   "source": [
    "**Moda**: Prever o sucesso da venda de uma roupa em determinada região com base nas publicações da população nas redes sociais.\n",
    "##### <img align=\"center\" width=\"480\"  src=\"images/fashion.png\">"
   ]
  },
  {
   "cell_type": "markdown",
   "metadata": {},
   "source": [
    "**Outras aplicações**: Jogos e Animação 3D, TikTok, Proteção de copyright (YouTube), Medicina, Manutenção Preditiva, Assinatura de Documentos com Vídeo, Varejo, Contagem de Estoque, etc, etc, etc."
   ]
  },
  {
   "cell_type": "markdown",
   "metadata": {},
   "source": [
    "### **B. O que é uma imagem?**\n",
    "\n",
    "Antes de entender mais detalhes sobre visão computacional é necessário saber como o computador enxerga uma imagem. Mas não se preocupe, pois é simples!\n",
    "\n",
    "Uma imagem para um computador nada mais é do que uma matriz de pixels, que possui um sistema de cores. Cada pixel é representado por um valor numérico."
   ]
  },
  {
   "cell_type": "markdown",
   "metadata": {},
   "source": [
    "Exemplos:\n",
    "\n",
    "*Imagine que cada \"quadradinho\" das imagens a seguir são um pixel.*\n",
    "\n",
    "- Imagem com tamanho de 32x32 pixels e com 1 canal de cor (escala de cinza ou grayscale):\n",
    "\n",
    "<img align=\"center\" width=\"635\" height=\"257\" src=\"images/o_q_eh_imagem.png\">"
   ]
  },
  {
   "cell_type": "markdown",
   "metadata": {},
   "source": [
    "- Imagem com tamanho de 40x40 pixels e com 3 canais de cores (RGB ou vermelho, verde e azul):\n",
    "\n",
    "<img align=\"center\" width=\"514\" height=\"257\" src=\"images/o_q_eh_imagem_rgb.png\">"
   ]
  },
  {
   "cell_type": "markdown",
   "metadata": {},
   "source": [
    "### **C. O que é uma convolução???**\n",
    "\n",
    "Matematicamente falando, uma convolução é uma operação linear que a partir de duas funções, gera uma terceira.\n",
    "\n",
    "Dentro do contexto de visão computacional a convolução consiste na extração das características relevantes de uma imagem, preservando as relações entre os pixels. A extração das características se dá por meio da multiplicação de pequenos blocos da matriz da imagem com um kernel (também chamado de feature detector ou filtro)."
   ]
  },
  {
   "cell_type": "markdown",
   "metadata": {},
   "source": [
    "<img align=\"center\" width=\"881\" height=\"365\" src=\"images/multiplicacao%20da%20imagem%20pelo%20kernel.png\">\n"
   ]
  },
  {
   "cell_type": "markdown",
   "metadata": {},
   "source": [
    "Ok. Como que essa operação matemática aí em cima funciona?"
   ]
  },
  {
   "cell_type": "markdown",
   "metadata": {},
   "source": [
    "<img align=\"center\" width=\"881\" height=\"365\" src=\"images/o_q_eh_convolucao.png\">"
   ]
  },
  {
   "cell_type": "markdown",
   "metadata": {},
   "source": [
    "<!-- <img align=\"center\" width=\"400\" height=\"400\" src=\"images/extracao%20feature%20map.gif\"> -->"
   ]
  },
  {
   "cell_type": "markdown",
   "metadata": {},
   "source": [
    "Mas afinal, o que é um kernel?\n",
    "\n",
    "<img align=\"center\" width=\"300\" height=\"300\" src=\"https://media.giphy.com/media/xT0xeuOy2Fcl9vDGiA/giphy.gif\">"
   ]
  },
  {
   "cell_type": "markdown",
   "metadata": {},
   "source": [
    "### **D. O que são filtros (ou kernels)?**\n",
    "\n",
    "Um kernel nada mais é do que uma matriz utilizada na operação de multiplicação de matrizes durante o processamento de imagens. Diferentes kernels geram diferentes transformações na imagem.\n",
    "\n",
    "Vamos visualizar: [Image Kernels Explained Visually](https://setosa.io/ev/image-kernels/)."
   ]
  },
  {
   "cell_type": "markdown",
   "metadata": {},
   "source": [
    "### **E. Ok, mas... O que é uma rede neural convolucional???**\n",
    "\n",
    "É uma rede utilizada para achar os filtros de forma automática*! Vamos ver uma no... [Microscópio!](https://microscope.openai.com/models/inceptionv4_slim/Placeholder_0?models.op.technique=caricature&models.technique=caricature) Vou compartilhar a minha tela.\n",
    "\n",
    "*_Os filtros são achados de forma automática, não mágica. Só que backpropagation é assunto para outra hora._ "
   ]
  },
  {
   "cell_type": "markdown",
   "metadata": {},
   "source": [
    "#    \n",
    "#    "
   ]
  },
  {
   "cell_type": "markdown",
   "metadata": {},
   "source": [
    "#    \n",
    "#    "
   ]
  },
  {
   "cell_type": "markdown",
   "metadata": {},
   "source": [
    "#    \n",
    "#    "
   ]
  },
  {
   "cell_type": "markdown",
   "metadata": {},
   "source": [
    "#    \n",
    "#    "
   ]
  },
  {
   "cell_type": "markdown",
   "metadata": {},
   "source": [
    "#    \n",
    "#    "
   ]
  },
  {
   "cell_type": "markdown",
   "metadata": {},
   "source": [
    "### Viu como a ideia central é simples? \n",
    "\n",
    "<img align=\"center\" width=\"300\" height=\"300\" src=\"https://media.giphy.com/media/l0EwZ92cG9x9VPC7u/giphy.gif\">"
   ]
  },
  {
   "cell_type": "markdown",
   "metadata": {},
   "source": [
    "### Agora você já sabe as diferenças entre Inteligência Artificial, Machine Learning e Deep Learning. E viu uma Rede Neural Convolucional no Microscópio!!! Yay!!!\n",
    "\n",
    "<img align=\"center\" width=\"300\" height=\"300\" src=\"https://media.giphy.com/media/yoJC2GnSClbPOkV0eA/giphy.gif\">"
   ]
  },
  {
   "cell_type": "markdown",
   "metadata": {},
   "source": [
    "#    \n",
    "#    "
   ]
  },
  {
   "cell_type": "markdown",
   "metadata": {},
   "source": [
    "## **4. Perguntas**\n",
    "\n",
    "<img align=\"center\" width=\"300\" height=\"300\" src=\"https://media.giphy.com/media/acJ6UbGLUB2De/giphy.gif\">"
   ]
  },
  {
   "cell_type": "markdown",
   "metadata": {},
   "source": [
    "### A. "
   ]
  },
  {
   "cell_type": "markdown",
   "metadata": {},
   "source": [
    "### B. "
   ]
  },
  {
   "cell_type": "markdown",
   "metadata": {},
   "source": [
    "### C. "
   ]
  },
  {
   "cell_type": "markdown",
   "metadata": {},
   "source": [
    "### D. "
   ]
  },
  {
   "cell_type": "markdown",
   "metadata": {},
   "source": [
    "#    \n",
    "#    "
   ]
  },
  {
   "cell_type": "markdown",
   "metadata": {},
   "source": [
    "# **\"Talk is cheap, show me the code\"** - Linus Torvalds \n",
    "\n",
    "Já que falar é fácil, vamos agora ao nosso Workshop !!!\n",
    "\n",
    "<img align=\"center\" width=\"300\" height=\"300\" src=\"https://media.giphy.com/media/rVbAzUUSUC6dO/giphy.gif\">"
   ]
  },
  {
   "cell_type": "markdown",
   "metadata": {},
   "source": [
    "#  "
   ]
  },
  {
   "cell_type": "markdown",
   "metadata": {},
   "source": [
    "## **5. Workshop (se der tempo)**"
   ]
  },
  {
   "cell_type": "markdown",
   "metadata": {},
   "source": [
    "### 0. Pré-requisitos: nenhum. Um pouco de programação ajuda."
   ]
  },
  {
   "cell_type": "markdown",
   "metadata": {},
   "source": [
    "### A. Construa sua primeira rede neural profunda. Baseado no vídeo: [Build a deep neural network in 4 mins with TensorFlow in Colab](https://www.youtube.com/watch?v=_VTtrSDHPwU)."
   ]
  },
  {
   "cell_type": "markdown",
   "metadata": {
    "colab_type": "text",
    "id": "Oex88qd38Thn"
   },
   "source": [
    "In this first cell we will upload the CSV files that contain the pre-sorted and pre-normalized data. \n",
    "For these I used the Wisconsin breast cancer dataset, sorted it into training and test sets with the 'input' values to the Neural Network as 'X' values, and the expected 'output' (a 0 if benign and a 1 if malignant) as the 'Y' values.\n"
   ]
  },
  {
   "cell_type": "code",
   "execution_count": null,
   "metadata": {
    "colab": {
     "base_uri": "https://localhost:8080/",
     "height": 171,
     "resources": {
      "http://localhost:8080/nbextensions/google.colab/files.js": {
       "data": "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",
       "headers": [
        [
         "content-type",
         "application/javascript"
        ]
       ],
       "ok": true,
       "status": 200,
       "status_text": ""
      }
     }
    },
    "colab_type": "code",
    "id": "m_NRnXsJzphf",
    "outputId": "4a7733db-db62-483b-8511-546e5b57bb2e"
   },
   "outputs": [],
   "source": [
    "import pandas as pd\n",
    "\n",
    "X_train = pd.read_csv(\"breast_cancer_dataset/xtrain.csv\", header=None)\n",
    "Y_train = pd.read_csv(\"breast_cancer_dataset/ytrain.csv\", header=None)\n",
    "X_test = pd.read_csv(\"breast_cancer_dataset/xtest.csv\", header=None)\n",
    "Y_test = pd.read_csv(\"breast_cancer_dataset/ytest.csv\", header=None)"
   ]
  },
  {
   "cell_type": "markdown",
   "metadata": {
    "colab_type": "text",
    "id": "bL4z0BArzqff"
   },
   "source": [
    "Now I'm going to use Keras to define a Neural network that will be trained off of this data. This Neural Network can then be used to predict future values for breast cancer presence. "
   ]
  },
  {
   "cell_type": "code",
   "execution_count": null,
   "metadata": {
    "colab": {
     "base_uri": "https://localhost:8080/",
     "height": 34
    },
    "colab_type": "code",
    "id": "LoWtmalR80De",
    "outputId": "78d87087-3e13-4a79-9259-2ee3cf9c08d4"
   },
   "outputs": [],
   "source": [
    "from tensorflow.keras.models import Sequential\n",
    "from tensorflow.keras.layers import Dense\n",
    "\n",
    "classifier = Sequential() # Initialising the ANN\n",
    "\n",
    "classifier.add(Dense(units = 16, activation = 'relu', input_dim = 30))\n",
    "classifier.add(Dense(units = 8, activation = 'relu'))\n",
    "classifier.add(Dense(units = 6, activation = 'relu'))\n",
    "classifier.add(Dense(units = 1, activation = 'sigmoid'))"
   ]
  },
  {
   "cell_type": "markdown",
   "metadata": {
    "colab_type": "text",
    "id": "cJ_MStxe9CbN"
   },
   "source": [
    "Once the Neural Network is defined, I now have to specify is the optimizer and loss function"
   ]
  },
  {
   "cell_type": "code",
   "execution_count": null,
   "metadata": {
    "colab": {},
    "colab_type": "code",
    "id": "wR2O00E39C7E"
   },
   "outputs": [],
   "source": [
    "classifier.compile(optimizer = 'rmsprop', loss = 'binary_crossentropy')"
   ]
  },
  {
   "cell_type": "markdown",
   "metadata": {
    "colab_type": "text",
    "id": "Mn9WPqaP9RmN"
   },
   "source": [
    "You now train the neural network using Classifier.fit, passing it the training data -- i.e. for this set of X, this is what the Y should look like. The NN will then spot the patterns in the data, and build a neural network that could replicate that. "
   ]
  },
  {
   "cell_type": "code",
   "execution_count": null,
   "metadata": {
    "colab": {
     "base_uri": "https://localhost:8080/",
     "height": 3434
    },
    "colab_type": "code",
    "id": "1QlYnFgH9N49",
    "outputId": "cca1ea2e-7fb6-4e30-9c4b-c367abcffdf2"
   },
   "outputs": [],
   "source": [
    "classifier.fit(X_train, Y_train, batch_size = 1, epochs = 100)"
   ]
  },
  {
   "cell_type": "markdown",
   "metadata": {
    "colab_type": "text",
    "id": "yrnGgtfn9gsE"
   },
   "source": [
    "To predict new values, the Neural Network uses classifier.predict. I'm going to pass it the test values for X (which the Neural Network hasn't previously seen) and it will give me back a set of predictions. These predicitons will be probabilities, so I will clean them up by saying that if thye are greater than .5, I'll make them 1, else I'll make them 0."
   ]
  },
  {
   "cell_type": "code",
   "execution_count": null,
   "metadata": {
    "colab": {},
    "colab_type": "code",
    "id": "xEaG0Tkx9fUU"
   },
   "outputs": [],
   "source": [
    "Y_pred = classifier.predict(X_test)\n",
    "Y_pred = [ 1 if y>=0.5 else 0 for y in Y_pred ]"
   ]
  },
  {
   "cell_type": "markdown",
   "metadata": {
    "colab_type": "text",
    "id": "oQK3Qo9h97OW"
   },
   "source": [
    "Now we can loop through the set of predicitons for the test set (called Y_pred) and the actual values for the test set (celled Y_test), and see how alike they are -- if they are the same, I'll increment 'correct', otherwise I'll incrememnt 'wrong'. \n",
    "\n",
    "You'll see the result is 100% accurate, even though the neural network reported a lower accuracy than that. Why? "
   ]
  },
  {
   "cell_type": "code",
   "execution_count": null,
   "metadata": {
    "colab": {
     "base_uri": "https://localhost:8080/",
     "height": 68
    },
    "colab_type": "code",
    "id": "he_2VHJ_9yC1",
    "outputId": "5690cf3a-4735-4ff1-c32b-96c1cfefe6f8"
   },
   "outputs": [],
   "source": [
    "total = 0\n",
    "correct = 0\n",
    "wrong = 0\n",
    "for i in Y_pred:\n",
    "  total=total+1\n",
    "  if(Y_test.at[i,0] == Y_pred[i]):\n",
    "    correct=correct+1\n",
    "  else:\n",
    "    wrong=wrong+1\n",
    "\n",
    "print(\"Total \" + str(total))\n",
    "print(\"Correct \" + str(correct))\n",
    "print(\"Wrong \" + str(wrong))"
   ]
  },
  {
   "cell_type": "markdown",
   "metadata": {},
   "source": [
    "#    "
   ]
  },
  {
   "cell_type": "markdown",
   "metadata": {},
   "source": [
    "## **Referências Bibliográficas** (informal)\n",
    "\n",
    "**A Five-Minute Guide To Artificial Inteligence**. Disponível em: https://medium.com/appanion/a-five-minute-guide-to-artificial-intelligence-c4262be85fd3\n",
    "\n",
    "**What is Artificial Intelligence? - In 5 minutes**. Disponível em: https://www.youtube.com/watch?v=2ePf9rue1Ao\n",
    "\n",
    "**Understanding of Convolutional Neural Network (CNN) - Deep Learning**. Disponível em: https://medium.com/@RaghavPrabhu/understanding-of-convolutional-neural-network-cnn-deep-learning-99760835f148\n",
    "\n",
    "**Uma introdução as redes neurais convolucionais utilizando o Keras**. Disponível em: https://medium.com/data-hackers/uma-introdu%C3%A7%C3%A3o-as-redes-neurais-convolucionais-utilizando-o-keras-41ee8dcc033e\n",
    "\n",
    "**A Beginner's Guide to Machine Learning.** Disponível em: https://medium.com/@randylaosat/a-beginners-guide-to-machine-learning-dfadc19f6caf\n",
    "\n",
    "**Image Kernels Explained Visually.** Disponível em: https://setosa.io/ev/image-kernels/\n",
    "\n",
    "**A Neural Network Playground** Disponível em: https://playground.tensorflow.org/\n",
    "\n",
    "**Inception-v4, Inception-ResNet and the Impact of Residual Connections on Learning.** Disponível em: https://arxiv.org/abs/1602.07261\n",
    "\n",
    "**Curso de Deep Learning ministrado pelo Professor Diego Dorgam na UnB.**\n",
    "\n",
    "**OpenAI Microscope.** Disponível em: https://microscope.openai.com/\n",
    "\n",
    "**Deep Learning for Coders with fastai and PyTorch: AI Applications Without a PhD.** Disponível em: https://www.amazon.com/Deep-Learning-Coders-fastai-PyTorch/dp/1492045527. Disponível gratuitamente em: https://github.com/fastai/fastbook.\n",
    "\n",
    "**Computer Vision: Crash Course Computer Science \\#35.** Disponível em: https://www.youtube.com/watch?v=-4E2-0sxVUM"
   ]
  }
 ],
 "metadata": {
  "kernelspec": {
   "display_name": "Python 3",
   "language": "python",
   "name": "python3"
  },
  "language_info": {
   "codemirror_mode": {
    "name": "ipython",
    "version": 3
   },
   "file_extension": ".py",
   "mimetype": "text/x-python",
   "name": "python",
   "nbconvert_exporter": "python",
   "pygments_lexer": "ipython3",
   "version": "3.7.6"
  }
 },
 "nbformat": 4,
 "nbformat_minor": 4
}
