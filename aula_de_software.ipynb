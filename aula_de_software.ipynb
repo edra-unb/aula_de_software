{
 "cells": [
  {
   "cell_type": "markdown",
   "metadata": {},
   "source": [
    "<img align=\"center\" width=\"300\" height=\"300\" src=\"https://avatars2.githubusercontent.com/u/57683671?s=200&v=4\">"
   ]
  },
  {
   "cell_type": "markdown",
   "metadata": {},
   "source": [
    "# **EDRA, Aula de Software**"
   ]
  },
  {
   "cell_type": "markdown",
   "metadata": {
    "jupyter": {
     "source_hidden": true
    }
   },
   "source": [
    "## **Ementa:**"
   ]
  },
  {
   "cell_type": "markdown",
   "metadata": {},
   "source": [
    "1. **A área de software da EDRA.**\n",
    "    1. Quem é quem? Quem faz o que?\n",
    "    2. Qual a diferença entre Software e Controle? O que Software faz?\n",
    "    3. Quais são os principais problemas que Software encara?\n",
    "2. **Molhando os pés em Aprendizado de Máquina.**\n",
    "    1. O que é Inteligência Artificial?\n",
    "    2. Programação VS Machine Learning.\n",
    "    3. Qual é a diferença entre Inteligência Artificial, Aprendizado de Máquina e Aprendizagem Profunda?\n",
    "3. **Molhando os pés em Visão Computacional.**\n",
    "    1. Aplicações\n",
    "    2. O que é uma imagem?\n",
    "    3. O que é uma convolução?\n",
    "    4. O que são filtros (ou kernels)?\n",
    "    5. O que é uma rede neural convolucional?\n",
    "3. **Perguntas.**\n",
    "4. **Workshop. (se der tempo)**\n",
    "    0. Pré-requisitos: nenhum. Um pouco de programação ajuda.\n",
    "    1. Introdução ao Google Colab\n",
    "    2. Primeiros passos com TensorFlow no Google Colaboratory\n",
    "    3. Construa sua primeira rede neural profunda"
   ]
  },
  {
   "cell_type": "markdown",
   "metadata": {},
   "source": [
    "#   \n",
    "#    \n",
    "#     \n",
    "#     "
   ]
  },
  {
   "cell_type": "markdown",
   "metadata": {},
   "source": [
    "## **1. A área de software da EDRA**"
   ]
  },
  {
   "cell_type": "markdown",
   "metadata": {},
   "source": [
    "### A. Quem é quem? Quem faz o que?\n",
    "- Eduarda Tavares - Design Gráfico com Unreal e outras ferramentas\n",
    "- Edson Soares - Desenvolvimento Mobile com Flutter\n",
    "- Gabrielle Ribeiro - Engenharia de Machine Learning com Python e TensorFlow\n",
    "- Leonardo Miranda - Pesquisa em Machine Learning e Gestão"
   ]
  },
  {
   "cell_type": "markdown",
   "metadata": {},
   "source": [
    "### B. Qual a diferença entre \"Software\" e \"Estabilidade e Controle\"? O que \"Software\" faz?\n",
    "\n",
    "**Estabilidade e Controle**\n",
    "- Sistema Embarcado de Tomada de Decisões\n",
    "- Modelagem Matemática dos Drones\n",
    "\n",
    "**Software**\n",
    "- Sistemas Auxiliares. Exemplo: aplicativo mobile.\n",
    "- Processamento de Imagens. Exemplo: detecção de objetos.\n",
    "- Design Gráfico. Exemplo: ambiente de simulação.\n",
    "- Conexão dos Componentes Eletrônicos Junto com a Área de Eletrônica"
   ]
  },
  {
   "cell_type": "markdown",
   "metadata": {},
   "source": [
    "### C. Quais são os principais problemas que Software encara?\n",
    "- Limitação do tempo de voo.\n",
    "- Altura do voo.\n",
    "- Resolução da câmera.\n",
    "- Posicionamento da câmera no drone.\n",
    "- Custo computacional dos modelos de Aprendizado de Máquina. \n",
    "- Vídeo: https://www.youtube.com/watch?v=TiOKvOrYNII"
   ]
  },
  {
   "cell_type": "markdown",
   "metadata": {},
   "source": [
    "#    \n",
    "#    "
   ]
  },
  {
   "cell_type": "markdown",
   "metadata": {},
   "source": [
    "## **2. Molhando os pés em Aprendizado de Máquina**"
   ]
  },
  {
   "cell_type": "markdown",
   "metadata": {},
   "source": [
    "### **A. O que é Inteligência Artificial?**\n",
    "\n",
    "Inteligência Artificial é um campo da Ciência da Computação que busca construir sistemas para computadores capazes de executar tarefas cognitivas de forma independente, reagindo de forma flexível ao seu ambiente maximizando a probabilidade de realizar com sucesso determinada tarefa.\n",
    "\n",
    "Por ser um campo ainda em desenvolvimento é difícil trazer uma definição única, mas de forma bem simples, pode-se dizer que a Inteligência Artificial faz com que computadores tenham a habilidade de pensar.\n",
    "\n",
    "O uso de Inteligência Artificial pode ser observado em veículos autônomos, chatbots, nas suas recomendações da Netflix, reconhecimento facial, etc.\n",
    "\n",
    "<img align=\"center\" width=\"1000\" height=\"500\" src=\"images/AI_2.png\">\n",
    "\n",
    "\n"
   ]
  },
  {
   "cell_type": "markdown",
   "metadata": {},
   "source": [
    "### **B. Programação VS Machine Learning**\n",
    "\n",
    "Na programação comum escrevemos códigos que dizem as regras que o computador deve seguir. Já no aprendizado de máquina essas regras não são ditas ao algoritmo, na realidade ele descobre quais são essas regras durante o treinamento.\n",
    "\n",
    "\n",
    "<img align=\"center\" width=\"500\" height=\"500\" src=\"images/ML.png\">\n",
    "\n",
    "Legal, não?\n",
    "\n",
    "<img align=\"center\" width=\"300\" height=\"300\" src=\"https://media.giphy.com/media/xT0xeJpnrWC4XWblEk/giphy.gif\">\n"
   ]
  },
  {
   "cell_type": "markdown",
   "metadata": {},
   "source": [
    "### **C. Qual é a diferença entre Inteligência Artificial, Aprendizado de Máquina e Aprendizagem Profunda?**\n",
    "\n",
    "<img align=\"center\" width=\"300\" height=\"300\" src=\"https://media.giphy.com/media/xUA7bhv4o0biM0WyOI/giphy.gif\">\n",
    "\n",
    "Para responder a esta pergunta, vamos praticar: [A Neural Network Playground](https://playground.tensorflow.org/#activation=tanh&batchSize=10&dataset=circle&regDataset=reg-plane&learningRate=0.03&regularizationRate=0&noise=0&networkShape=4&seed=0.92659&showTestData=false&discretize=false&percTrainData=50&x=true&y=true&xTimesY=false&xSquared=false&ySquared=false&cosX=false&sinX=false&cosY=false&sinY=false&collectStats=false&problem=classification&initZero=false&hideText=false)."
   ]
  },
  {
   "cell_type": "markdown",
   "metadata": {},
   "source": [
    "#    \n",
    "#    "
   ]
  },
  {
   "cell_type": "markdown",
   "metadata": {},
   "source": [
    "## **3. Molhando os pés em Visão Computacional**"
   ]
  },
  {
   "cell_type": "markdown",
   "metadata": {},
   "source": [
    "### **A. Aplicações**"
   ]
  },
  {
   "cell_type": "markdown",
   "metadata": {},
   "source": [
    "**Aviação**: Pouso automático.\n",
    "##### <img align=\"center\" width=\"380\" src=\"images/autoland.png\">"
   ]
  },
  {
   "cell_type": "markdown",
   "metadata": {},
   "source": [
    "**Indústria Automotiva**: Autopilot da Tesla\n",
    "##### <img align=\"center\" width=\"380\"  src=\"images/tesla.png\">"
   ]
  },
  {
   "cell_type": "markdown",
   "metadata": {},
   "source": [
    "**Área Jurídica**: Análise do layout de documentos\n",
    "##### <img align=\"center\" width=\"380\"  src=\"images/layout_analysis.png\">"
   ]
  },
  {
   "cell_type": "markdown",
   "metadata": {},
   "source": [
    "**Cibersecurity**: Detecção de malwares\n",
    "##### <img align=\"center\" width=\"480\"  src=\"images/malware.png\">\n"
   ]
  },
  {
   "cell_type": "markdown",
   "metadata": {},
   "source": [
    "**Processamento de aúdio**: Classificação de aúdio com espectogramas\n",
    "##### <img align=\"center\" width=\"480\"  src=\"images/spectograms.png\">"
   ]
  },
  {
   "cell_type": "markdown",
   "metadata": {},
   "source": [
    "**Moda**: Prever o sucesso da venda de uma roupa em determinada região com base nas publicações da população nas redes sociais.\n",
    "##### <img align=\"center\" width=\"480\"  src=\"images/fashion.png\">"
   ]
  },
  {
   "cell_type": "markdown",
   "metadata": {},
   "source": [
    "**Outras aplicações**: Jogos e Animação 3D, TikTok, Proteção de copyright (YouTube), Medicina, Manutenção Preditiva, Assinatura de Documentos com Vídeo, Varejo, Contagem de Estoque, etc, etc, etc."
   ]
  },
  {
   "cell_type": "markdown",
   "metadata": {},
   "source": [
    "### **B. O que é uma imagem?**\n",
    "\n",
    "Antes de entender mais detalhes sobre visão computacional é necessário saber como o computador enxerga uma imagem. Mas não se preocupe, pois é simples!\n",
    "\n",
    "Uma imagem para um computador nada mais é do que uma matriz de pixels, que possui um sistema de cores. Cada pixel é representado por um valor numérico."
   ]
  },
  {
   "cell_type": "markdown",
   "metadata": {},
   "source": [
    "Exemplos:\n",
    "\n",
    "*Imagine que cada \"quadradinho\" das imagens a seguir são um pixel.*\n",
    "\n",
    "- Imagem com tamanho de 32x32 pixels e com 1 canal de cor (escala de cinza ou grayscale):\n",
    "\n",
    "<img align=\"center\" width=\"635\" height=\"257\" src=\"images/o_q_eh_imagem.png\">"
   ]
  },
  {
   "cell_type": "markdown",
   "metadata": {},
   "source": [
    "- Imagem com tamanho de 40x40 pixels e com 3 canais de cores (RGB ou vermelho, verde e azul):\n",
    "\n",
    "<img align=\"center\" width=\"514\" height=\"257\" src=\"images/o_q_eh_imagem_rgb.png\">"
   ]
  },
  {
   "cell_type": "markdown",
   "metadata": {},
   "source": [
    "### **C. O que é uma convolução???**\n",
    "\n",
    "Matematicamente falando, uma convolução é uma operação linear que a partir de duas funções, gera uma terceira.\n",
    "\n",
    "Dentro do contexto de visão computacional a convolução consiste na extração das características relevantes de uma imagem, preservando as relações entre os pixels. A extração das características se dá por meio da multiplicação de pequenos blocos da matriz da imagem com um kernel (também chamado de feature detector ou filtro)."
   ]
  },
  {
   "cell_type": "markdown",
   "metadata": {},
   "source": [
    "<img align=\"center\" width=\"881\" height=\"365\" src=\"images/multiplicacao%20da%20imagem%20pelo%20kernel.png\">\n"
   ]
  },
  {
   "cell_type": "markdown",
   "metadata": {},
   "source": [
    "Ok. Como que essa operação matemática aí em cima funciona?"
   ]
  },
  {
   "cell_type": "markdown",
   "metadata": {},
   "source": [
    "<img align=\"center\" width=\"881\" height=\"365\" src=\"images/o_q_eh_convolucao.png\">"
   ]
  },
  {
   "cell_type": "markdown",
   "metadata": {},
   "source": [
    "<!-- <img align=\"center\" width=\"400\" height=\"400\" src=\"images/extracao%20feature%20map.gif\"> -->"
   ]
  },
  {
   "cell_type": "markdown",
   "metadata": {},
   "source": [
    "Mas afinal, o que é um kernel?\n",
    "\n",
    "<img align=\"center\" width=\"300\" height=\"300\" src=\"https://media.giphy.com/media/xT0xeuOy2Fcl9vDGiA/giphy.gif\">"
   ]
  },
  {
   "cell_type": "markdown",
   "metadata": {},
   "source": [
    "### **D. O que são filtros (ou kernels)?**\n",
    "\n",
    "Um kernel nada mais é do que uma matriz utilizada na operação de multiplicação de matrizes durante o processamento de imagens. Diferentes kernels geram diferentes transformações na imagem.\n",
    "\n",
    "Vamos visualizar: [Image Kernels Explained Visually](https://setosa.io/ev/image-kernels/)."
   ]
  },
  {
   "cell_type": "markdown",
   "metadata": {},
   "source": [
    "### **E. Ok, mas... O que é uma rede neural convolucional???**\n",
    "\n",
    "É uma rede utilizada para achar os filtros de forma automática*! Vamos ver uma no... [Microscópio!](https://microscope.openai.com/models/inceptionv4_slim/Placeholder_0?models.op.technique=caricature&models.technique=caricature) Vou compartilhar a minha tela.\n",
    "\n",
    "*_Os filtros são achados de forma automática, não mágica. Só que backpropagation é assunto para outra hora._ "
   ]
  },
  {
   "cell_type": "markdown",
   "metadata": {},
   "source": [
    "#    \n",
    "#    "
   ]
  },
  {
   "cell_type": "markdown",
   "metadata": {},
   "source": [
    "#    \n",
    "#    "
   ]
  },
  {
   "cell_type": "markdown",
   "metadata": {},
   "source": [
    "#    \n",
    "#    "
   ]
  },
  {
   "cell_type": "markdown",
   "metadata": {},
   "source": [
    "#    \n",
    "#    "
   ]
  },
  {
   "cell_type": "markdown",
   "metadata": {},
   "source": [
    "#    \n",
    "#    "
   ]
  },
  {
   "cell_type": "markdown",
   "metadata": {},
   "source": [
    "### Viu como a ideia central é simples? \n",
    "\n",
    "<img align=\"center\" width=\"300\" height=\"300\" src=\"https://media.giphy.com/media/l0EwZ92cG9x9VPC7u/giphy.gif\">"
   ]
  },
  {
   "cell_type": "markdown",
   "metadata": {},
   "source": [
    "### Agora você já sabe as diferenças entre Inteligência Artificial, Machine Learning e Deep Learning. E viu uma Rede Neural Convolucional no Microscópio!!! Yay!!!\n",
    "\n",
    "<img align=\"center\" width=\"300\" height=\"300\" src=\"https://media.giphy.com/media/yoJC2GnSClbPOkV0eA/giphy.gif\">"
   ]
  },
  {
   "cell_type": "markdown",
   "metadata": {},
   "source": [
    "#    \n",
    "#    "
   ]
  },
  {
   "cell_type": "markdown",
   "metadata": {},
   "source": [
    "## **4. Perguntas**\n",
    "\n",
    "<img align=\"center\" width=\"300\" height=\"300\" src=\"https://media.giphy.com/media/acJ6UbGLUB2De/giphy.gif\">"
   ]
  },
  {
   "cell_type": "markdown",
   "metadata": {},
   "source": [
    "#    \n",
    "#    "
   ]
  },
  {
   "cell_type": "markdown",
   "metadata": {},
   "source": [
    "# **\"Talk is cheap, show me the code\"** - Linus Torvalds \n",
    "\n",
    "Já que falar é fácil, vamos agora ao nosso Workshop !!!\n",
    "\n",
    "<img align=\"center\" width=\"300\" height=\"300\" src=\"https://media.giphy.com/media/rVbAzUUSUC6dO/giphy.gif\">"
   ]
  },
  {
   "cell_type": "markdown",
   "metadata": {},
   "source": [
    "#  "
   ]
  },
  {
   "cell_type": "markdown",
   "metadata": {},
   "source": [
    "## **5. Workshop (se der tempo)**"
   ]
  },
  {
   "cell_type": "markdown",
   "metadata": {},
   "source": [
    "### 0. Pré-requisitos: nenhum. Um pouco de programação ajuda."
   ]
  },
  {
   "cell_type": "markdown",
   "metadata": {},
   "source": [
    "### A. Construa sua primeira rede neural profunda. Baseado no vídeo: [Build a deep neural network in 4 mins with TensorFlow in Colab](https://www.youtube.com/watch?v=_VTtrSDHPwU)."
   ]
  },
  {
   "cell_type": "markdown",
   "metadata": {
    "colab_type": "text",
    "id": "Oex88qd38Thn"
   },
   "source": [
    "In this first cell we will upload the CSV files that contain the pre-sorted and pre-normalized data. \n",
    "For these I used the Wisconsin breast cancer dataset, sorted it into training and test sets with the 'input' values to the Neural Network as 'X' values, and the expected 'output' (a 0 if benign and a 1 if malignant) as the 'Y' values.\n"
   ]
  },
  {
   "cell_type": "code",
   "execution_count": null,
   "metadata": {
    "colab": {
     "base_uri": "https://localhost:8080/",
     "height": 171,
     "resources": {
      "http://localhost:8080/nbextensions/google.colab/files.js": {
       "data": "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",
       "headers": [
        [
         "content-type",
         "application/javascript"
        ]
       ],
       "ok": true,
       "status": 200,
       "status_text": ""
      }
     }
    },
    "colab_type": "code",
    "id": "m_NRnXsJzphf",
    "outputId": "4a7733db-db62-483b-8511-546e5b57bb2e"
   },
   "outputs": [],
   "source": [
    "import pandas as pd\n",
    "\n",
    "X_train = pd.read_csv(\"breast_cancer_dataset/xtrain.csv\", header=None)\n",
    "Y_train = pd.read_csv(\"breast_cancer_dataset/ytrain.csv\", header=None)\n",
    "X_test = pd.read_csv(\"breast_cancer_dataset/xtest.csv\", header=None)\n",
    "Y_test = pd.read_csv(\"breast_cancer_dataset/ytest.csv\", header=None)"
   ]
  },
  {
   "cell_type": "markdown",
   "metadata": {
    "colab_type": "text",
    "id": "bL4z0BArzqff"
   },
   "source": [
    "Now I'm going to use Keras to define a Neural network that will be trained off of this data. This Neural Network can then be used to predict future values for breast cancer presence. "
   ]
  },
  {
   "cell_type": "code",
   "execution_count": null,
   "metadata": {
    "colab": {
     "base_uri": "https://localhost:8080/",
     "height": 34
    },
    "colab_type": "code",
    "id": "LoWtmalR80De",
    "outputId": "78d87087-3e13-4a79-9259-2ee3cf9c08d4"
   },
   "outputs": [],
   "source": [
    "from tensorflow.keras.models import Sequential\n",
    "from tensorflow.keras.layers import Dense\n",
    "\n",
    "classifier = Sequential() # Initialising the ANN\n",
    "\n",
    "classifier.add(Dense(units = 16, activation = 'relu', input_dim = 30))\n",
    "classifier.add(Dense(units = 8, activation = 'relu'))\n",
    "classifier.add(Dense(units = 6, activation = 'relu'))\n",
    "classifier.add(Dense(units = 1, activation = 'sigmoid'))"
   ]
  },
  {
   "cell_type": "markdown",
   "metadata": {
    "colab_type": "text",
    "id": "cJ_MStxe9CbN"
   },
   "source": [
    "Once the Neural Network is defined, I now have to specify is the optimizer and loss function"
   ]
  },
  {
   "cell_type": "code",
   "execution_count": null,
   "metadata": {
    "colab": {},
    "colab_type": "code",
    "id": "wR2O00E39C7E"
   },
   "outputs": [],
   "source": [
    "classifier.compile(optimizer = 'rmsprop', loss = 'binary_crossentropy')"
   ]
  },
  {
   "cell_type": "markdown",
   "metadata": {
    "colab_type": "text",
    "id": "Mn9WPqaP9RmN"
   },
   "source": [
    "You now train the neural network using Classifier.fit, passing it the training data -- i.e. for this set of X, this is what the Y should look like. The NN will then spot the patterns in the data, and build a neural network that could replicate that. "
   ]
  },
  {
   "cell_type": "code",
   "execution_count": null,
   "metadata": {
    "colab": {
     "base_uri": "https://localhost:8080/",
     "height": 3434
    },
    "colab_type": "code",
    "id": "1QlYnFgH9N49",
    "outputId": "cca1ea2e-7fb6-4e30-9c4b-c367abcffdf2"
   },
   "outputs": [],
   "source": [
    "classifier.fit(X_train, Y_train, batch_size = 1, epochs = 100)"
   ]
  },
  {
   "cell_type": "markdown",
   "metadata": {
    "colab_type": "text",
    "id": "yrnGgtfn9gsE"
   },
   "source": [
    "To predict new values, the Neural Network uses classifier.predict. I'm going to pass it the test values for X (which the Neural Network hasn't previously seen) and it will give me back a set of predictions. These predicitons will be probabilities, so I will clean them up by saying that if thye are greater than .5, I'll make them 1, else I'll make them 0."
   ]
  },
  {
   "cell_type": "code",
   "execution_count": null,
   "metadata": {
    "colab": {},
    "colab_type": "code",
    "id": "xEaG0Tkx9fUU"
   },
   "outputs": [],
   "source": [
    "Y_pred = classifier.predict(X_test)\n",
    "Y_pred = [ 1 if y>=0.5 else 0 for y in Y_pred ]"
   ]
  },
  {
   "cell_type": "markdown",
   "metadata": {
    "colab_type": "text",
    "id": "oQK3Qo9h97OW"
   },
   "source": [
    "Now we can loop through the set of predicitons for the test set (called Y_pred) and the actual values for the test set (celled Y_test), and see how alike they are -- if they are the same, I'll increment 'correct', otherwise I'll incrememnt 'wrong'. \n",
    "\n",
    "You'll see the result is 100% accurate, even though the neural network reported a lower accuracy than that. Why? "
   ]
  },
  {
   "cell_type": "code",
   "execution_count": null,
   "metadata": {
    "colab": {
     "base_uri": "https://localhost:8080/",
     "height": 68
    },
    "colab_type": "code",
    "id": "he_2VHJ_9yC1",
    "outputId": "5690cf3a-4735-4ff1-c32b-96c1cfefe6f8"
   },
   "outputs": [],
   "source": [
    "total = 0\n",
    "correct = 0\n",
    "wrong = 0\n",
    "for i in Y_pred:\n",
    "  total=total+1\n",
    "  if(Y_test.at[i,0] == Y_pred[i]):\n",
    "    correct=correct+1\n",
    "  else:\n",
    "    wrong=wrong+1\n",
    "\n",
    "print(\"Total \" + str(total))\n",
    "print(\"Correct \" + str(correct))\n",
    "print(\"Wrong \" + str(wrong))"
   ]
  },
  {
   "cell_type": "markdown",
   "metadata": {},
   "source": [
    "#    "
   ]
  },
  {
   "cell_type": "markdown",
   "metadata": {},
   "source": [
    "## **Referências Bibliográficas** (informal)\n",
    "\n",
    "**TensorFlow Documentation**. Disponível em: https://tensorflow.org\n",
    "\n",
    "**A Five-Minute Guide To Artificial Inteligence**. Disponível em: https://medium.com/appanion/a-five-minute-guide-to-artificial-intelligence-c4262be85fd3\n",
    "\n",
    "**What is Artificial Intelligence? - In 5 minutes**. Disponível em: https://www.youtube.com/watch?v=2ePf9rue1Ao\n",
    "\n",
    "**Understanding of Convolutional Neural Network (CNN) - Deep Learning**. Disponível em: https://medium.com/@RaghavPrabhu/understanding-of-convolutional-neural-network-cnn-deep-learning-99760835f148\n",
    "\n",
    "**Uma introdução as redes neurais convolucionais utilizando o Keras**. Disponível em: https://medium.com/data-hackers/uma-introdu%C3%A7%C3%A3o-as-redes-neurais-convolucionais-utilizando-o-keras-41ee8dcc033e\n",
    "\n",
    "**A Beginner's Guide to Machine Learning.** Disponível em: https://medium.com/@randylaosat/a-beginners-guide-to-machine-learning-dfadc19f6caf\n",
    "\n",
    "**Image Kernels Explained Visually.** Disponível em: https://setosa.io/ev/image-kernels/\n",
    "\n",
    "**A Neural Network Playground** Disponível em: https://playground.tensorflow.org/\n",
    "\n",
    "**Inception-v4, Inception-ResNet and the Impact of Residual Connections on Learning.** Disponível em: https://arxiv.org/abs/1602.07261\n",
    "\n",
    "**Curso de Deep Learning ministrado pelo Professor Diego Dorgam na UnB.**\n",
    "\n",
    "**OpenAI Microscope.** Disponível em: https://microscope.openai.com/\n",
    "\n",
    "**Deep Learning for Coders with fastai and PyTorch: AI Applications Without a PhD.** Disponível em: https://www.amazon.com/Deep-Learning-Coders-fastai-PyTorch/dp/1492045527. Disponível gratuitamente em: https://github.com/fastai/fastbook.\n",
    "\n",
    "**Computer Vision: Crash Course Computer Science \\#35.** Disponível em: https://www.youtube.com/watch?v=-4E2-0sxVUM"
   ]
  }
 ],
 "metadata": {
  "kernelspec": {
   "display_name": "Python 3",
   "language": "python",
   "name": "python3"
  },
  "language_info": {
   "codemirror_mode": {
    "name": "ipython",
    "version": 3
   },
   "file_extension": ".py",
   "mimetype": "text/x-python",
   "name": "python",
   "nbconvert_exporter": "python",
   "pygments_lexer": "ipython3",
   "version": "3.7.6"
  }
 },
 "nbformat": 4,
 "nbformat_minor": 4
}
